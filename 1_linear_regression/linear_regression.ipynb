{
 "cells": [
  {
   "cell_type": "markdown",
   "metadata": {},
   "source": [
    "### 1.构造数据集"
   ]
  },
  {
   "cell_type": "code",
   "execution_count": 404,
   "metadata": {},
   "outputs": [],
   "source": [
    "import numpy as np"
   ]
  },
  {
   "cell_type": "code",
   "execution_count": 405,
   "metadata": {},
   "outputs": [],
   "source": [
    "X = np.arange(0,100,0.1)\n",
    "y = 2.2021 * X + np.random.randn(len(X))"
   ]
  },
  {
   "cell_type": "code",
   "execution_count": 406,
   "metadata": {},
   "outputs": [],
   "source": [
    "X = np.expand_dims(X, axis=1)"
   ]
  },
  {
   "cell_type": "code",
   "execution_count": null,
   "metadata": {},
   "outputs": [],
   "source": []
  },
  {
   "cell_type": "markdown",
   "metadata": {},
   "source": [
    "### 2.构造模型"
   ]
  },
  {
   "cell_type": "markdown",
   "metadata": {},
   "source": [
    "- **表达式**: $y=\\omega x + b$\n",
    "- **LOSS**:   MSE Mean Square Error 均方差 作为 loss,\n",
    "     - 即: $\\frac{1}{2m}\\sum_1^m(h_{\\theta}(x) - y) ^2$ ; m为样本数量，分母加2是因为便于求导是月掉，对结果无影响\n",
    "         - 其中: $h_{\\theta}(x)$ = $\\theta_0 + \\theta_1 x_1  + ... +  \\theta _m x_m$"
   ]
  },
  {
   "cell_type": "code",
   "execution_count": 398,
   "metadata": {},
   "outputs": [],
   "source": [
    "class LinearRegression:\n",
    "    \n",
    "    def __init__(self, alpha=0.0000001, epoch=10000):\n",
    "        self.alpha=alpha\n",
    "        self.epoch=epoch\n",
    "\n",
    "    def fit(self, X, y):\n",
    "        self.X = X\n",
    "        self.y = y      \n",
    "        self.m = len(X)\n",
    "        self.n = len(X[0])\n",
    "        \n",
    "        # 因为 有 theta0， 所以给添加一行 X0; 同理, theta 的长度为 feature 长度+1\n",
    "        self.X = np.hstack((np.ones((self.m, 1)), self.X))\n",
    "        self.theta = np.zeros((self.n+1, 1))\n",
    "        \n",
    "        # 行向量转为列\n",
    "        self.y = self.y.reshape(-1,1)\n",
    "        return self._gradientDescent()\n",
    "        \n",
    "    def _gradientDescent(self):\n",
    "        temp = np.matrix(np.zeros((self.n+1, self.epoch)))\n",
    "        history = np.zeros((self.epoch, 1))\n",
    "        \n",
    "        for i in range(self.epoch):\n",
    "            h=np.dot(self.X, self.theta)\n",
    "            \n",
    "            temp[:, i] = self.theta - (self.alpha/self.m)*(np.dot(np.transpose(self.X), h-self.y))\n",
    "                \n",
    "            self.theta = temp[:, i]\n",
    "            history[i] = self._compute_cost()\n",
    "            \n",
    "        return self.theta, history\n",
    "    \n",
    "    def _compute_cost(self):\n",
    "        L = (np.transpose(self.X * self.theta-self.y))*(self.X*self.theta-self.y)/(2*self.m)\n",
    "        return L\n",
    "    \n",
    "    def predict(self, x_test):\n",
    "        x_test = np.hstack((np.ones((len(x_test), 1)), x_test))\n",
    "        result = np.dot(x_test, self.theta)\n",
    "        return result"
   ]
  },
  {
   "cell_type": "markdown",
   "metadata": {},
   "source": []
  },
  {
   "cell_type": "markdown",
   "metadata": {},
   "source": [
    "### 3. 训练和测试"
   ]
  },
  {
   "cell_type": "code",
   "execution_count": 399,
   "metadata": {},
   "outputs": [],
   "source": [
    "lr = LinearRegression(alpha=0.0000001, epoch=10000)"
   ]
  },
  {
   "cell_type": "code",
   "execution_count": null,
   "metadata": {},
   "outputs": [],
   "source": []
  },
  {
   "cell_type": "code",
   "execution_count": 400,
   "metadata": {},
   "outputs": [],
   "source": [
    "theta, history = lr.fit(X, y)"
   ]
  },
  {
   "cell_type": "code",
   "execution_count": null,
   "metadata": {},
   "outputs": [],
   "source": []
  },
  {
   "cell_type": "code",
   "execution_count": 401,
   "metadata": {},
   "outputs": [
    {
     "name": "stdout",
     "output_type": "stream",
     "text": [
      "[[0.03188139]\n",
      " [2.12401456]]\n"
     ]
    }
   ],
   "source": [
    "print(theta)"
   ]
  },
  {
   "cell_type": "code",
   "execution_count": null,
   "metadata": {},
   "outputs": [],
   "source": []
  },
  {
   "cell_type": "code",
   "execution_count": 402,
   "metadata": {},
   "outputs": [
    {
     "data": {
      "text/plain": [
       "matrix([[2.15589596]])"
      ]
     },
     "execution_count": 402,
     "metadata": {},
     "output_type": "execute_result"
    }
   ],
   "source": [
    "lr.predict([[1]])"
   ]
  },
  {
   "cell_type": "code",
   "execution_count": null,
   "metadata": {},
   "outputs": [],
   "source": []
  },
  {
   "cell_type": "markdown",
   "metadata": {},
   "source": [
    "### 4. 可视化"
   ]
  },
  {
   "cell_type": "code",
   "execution_count": 403,
   "metadata": {},
   "outputs": [
    {
     "data": {
      "text/plain": [
       "[<matplotlib.lines.Line2D at 0x12690b0a0>]"
      ]
     },
     "execution_count": 403,
     "metadata": {},
     "output_type": "execute_result"
    },
    {
     "data": {
      "image/png": "[encoded data removed]",
      "text/plain": [
       "<Figure size 432x288 with 1 Axes>"
      ]
     },
     "metadata": {
      "needs_background": "light"
     },
     "output_type": "display_data"
    }
   ],
   "source": [
    "import matplotlib.pyplot as plt\n",
    "plt.plot(history)"
   ]
  },
  {
   "cell_type": "code",
   "execution_count": null,
   "metadata": {},
   "outputs": [],
   "source": []
  },
  {
   "cell_type": "code",
   "execution_count": null,
   "metadata": {},
   "outputs": [],
   "source": []
  },
  {
   "cell_type": "code",
   "execution_count": null,
   "metadata": {},
   "outputs": [],
   "source": []
  }
 ],
 "metadata": {
  "kernelspec": {
   "display_name": "Python 3",
   "language": "python",
   "name": "python3"
  },
  "language_info": {
   "codemirror_mode": {
    "name": "ipython",
    "version": 3
   },
   "file_extension": ".py",
   "mimetype": "text/x-python",
   "name": "python",
   "nbconvert_exporter": "python",
   "pygments_lexer": "ipython3",
   "version": "3.8.3"
  }
 },
 "nbformat": 4,
 "nbformat_minor": 4
}
